{
 "metadata": {
  "name": ""
 },
 "nbformat": 3,
 "nbformat_minor": 0,
 "worksheets": [
  {
   "cells": [
    {
     "cell_type": "code",
     "collapsed": false,
     "input": [
      "import requests\n",
      "import bs4\n",
      "from pprint import pprint\n",
      "\n",
      "def get_project_images(page_url):\n",
      "    r = requests.get(page_url)\n",
      "    soup = bs4.BeautifulSoup(r.text)\n",
      "    all_imgs = []\n",
      "    for li in soup.select('li.module.image'):\n",
      "        all_imgs += [img.attrs['src'] for img in li.find_all('img')]\n",
      "    return all_imgs"
     ],
     "language": "python",
     "metadata": {},
     "outputs": [],
     "prompt_number": 18
    },
    {
     "cell_type": "code",
     "collapsed": false,
     "input": [
      "pprint(get_project_images('http://www.behance.net//gallery/Blue-Sea-Sails/1131791'))\n",
      "pprint(get_project_images('http://www.behance.net//gallery/MY-WAY--BABY-CHRISTENING-INVITATION/1623059'))\n",
      "pprint(get_project_images('http://www.behance.net//gallery/My-Photography/2851653'))"
     ],
     "language": "python",
     "metadata": {},
     "outputs": [
      {
       "output_type": "stream",
       "stream": "stdout",
       "text": [
        "['http://behance.vo.llnwd.net/profiles12/368381/projects/1131791/e6ca7eafedbf820c0d0bd9da7fea9a86.jpg',\n",
        " 'http://behance.vo.llnwd.net/profiles12/368381/projects/1131791/2ecfaf97f44f8c1b024e9e865b988d84.jpg',\n",
        " 'http://behance.vo.llnwd.net/profiles12/368381/projects/1131791/f1f91deea1965e903519e4990cb7ba3d.jpg']\n",
        "["
       ]
      },
      {
       "output_type": "stream",
       "stream": "stdout",
       "text": [
        "'http://behance.vo.llnwd.net/profiles20/289266/projects/1623059/46df87b260b4cbe78e0340b0ed0fcdbd.jpg',\n",
        " 'http://behance.vo.llnwd.net/profiles20/289266/projects/1623059/c43a9b58be8ebd9e1e9eb895ea9e252b.jpg',\n",
        " 'http://behance.vo.llnwd.net/profiles20/289266/projects/1623059/afc1c4473654f3c5c8cc18d046072628.jpg',\n",
        " 'http://behance.vo.llnwd.net/profiles20/289266/projects/1623059/0848cc76d477ae70bec2ce610be96284.jpg']\n",
        "["
       ]
      },
      {
       "output_type": "stream",
       "stream": "stdout",
       "text": [
        "'http://behance.vo.llnwd.net/profiles10/853839/projects/2851653/f1afdb3710202a83518411ad44750129.jpg',\n",
        " 'http://behance.vo.llnwd.net/profiles10/853839/projects/2851653/553903243f5c0c1d14486f4de6aef91d.jpg',\n",
        " 'http://behance.vo.llnwd.net/profiles10/853839/projects/2851653/95a6e65931aff61f25e9664dc8331f96.jpg']\n"
       ]
      }
     ],
     "prompt_number": 21
    }
   ],
   "metadata": {}
  }
 ]
}