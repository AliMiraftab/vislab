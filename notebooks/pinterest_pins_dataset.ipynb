{
 "metadata": {
  "name": ""
 },
 "nbformat": 3,
 "nbformat_minor": 0,
 "worksheets": [
  {
   "cells": [
    {
     "cell_type": "markdown",
     "metadata": {},
     "source": [
      "## Load the pins collection into a DataFrame."
     ]
    },
    {
     "cell_type": "code",
     "collapsed": false,
     "input": [
      "%load_ext autoreload\n",
      "%autoreload 2\n",
      "\n",
      "from pprint import pprint\n",
      "import pandas as pd\n",
      "import pymongo\n",
      "import numpy as np\n",
      "import time"
     ],
     "language": "python",
     "metadata": {},
     "outputs": [],
     "prompt_number": 1
    },
    {
     "cell_type": "code",
     "collapsed": false,
     "input": [
      "db = pymongo.Connection(port=27017)['pinscraping']\n",
      "print db.collection_names()"
     ],
     "language": "python",
     "metadata": {},
     "outputs": [
      {
       "output_type": "stream",
       "stream": "stdout",
       "text": [
        "[u'users', u'system.indexes', u'boards', u'pins']\n"
       ]
      }
     ],
     "prompt_number": 3
    },
    {
     "cell_type": "code",
     "collapsed": false,
     "input": [
      "print(db['pins'].count())\n",
      "pprint(db['pins'].find_one())"
     ],
     "language": "python",
     "metadata": {},
     "outputs": [
      {
       "output_type": "stream",
       "stream": "stdout",
       "text": [
        "730754\n",
        "{u'_id': u'www.pinterest.com/pin/100205160428494657/',\n",
        " u'board_name': u'soft-mint',\n",
        " u'caption': u'cupcakes',\n",
        " u'img': u'http://media-cache-ec0.pinimg.com/736x/cd/49/9c/cd499c1fdd84af17856e0a219031a5c4.jpg',\n",
        " u'pin_url': u'www.pinterest.com/pin/100205160428494657/',\n",
        " u'query': [u'soft'],\n",
        " u'repins': 25,\n",
        " u'repins_likes_url': [u'www.pinterest.com/pin/100205160428494657/repins/',\n",
        "                       u'www.pinterest.com/pin/100205160428494657/likes/'],\n",
        " u'source': u'sprinklebakes.com',\n",
        " u'username': u'rainqueen'}\n"
       ]
      }
     ],
     "prompt_number": 4
    },
    {
     "cell_type": "code",
     "collapsed": false,
     "input": [
      "# Make DataFrame, and use the unique pin id as image_id.\n",
      "pins_df = pd.DataFrame(list(db['pins'].find(fields=['img', 'query', 'repins', 'board_name', 'username', '_id'])))\n",
      "pins_df.index = pd.Index([_.split('/')[-2] for _ in pins_df['_id']], name='image_id')\n",
      "del pins_df['_id']"
     ],
     "language": "python",
     "metadata": {},
     "outputs": [],
     "prompt_number": 14
    },
    {
     "cell_type": "code",
     "collapsed": false,
     "input": [
      "# Expand the query list to boolean columns.\n",
      "pins_df_expanded = pd.DataFrame(\n",
      "    data=[\n",
      "        dict([('query_' + _, True) for _ in row])\n",
      "        for row in pins_df['query']\n",
      "    ],\n",
      "    index=pins_df.index\n",
      ").fillna(False)\n",
      "print(pins_df_expanded.sum(0))"
     ],
     "language": "python",
     "metadata": {},
     "outputs": [
      {
       "output_type": "stream",
       "stream": "stdout",
       "text": [
        "query_bright        87402\n",
        "query_energetic     14464\n",
        "query_hazy          43020\n",
        "query_hdr           34148\n",
        "query_horror        75807\n",
        "query_macro         61991\n",
        "query_melancholy    45922\n",
        "query_noir          84710\n",
        "query_pastel        66566\n",
        "query_serene        58312\n",
        "query_soft          86433\n",
        "query_sunny         71979\n",
        "dtype: int64\n"
       ]
      }
     ],
     "prompt_number": 15
    },
    {
     "cell_type": "code",
     "collapsed": false,
     "input": [
      "pins_df = pins_df.join(pins_df_expanded)\n",
      "del pins_df['query']"
     ],
     "language": "python",
     "metadata": {},
     "outputs": [],
     "prompt_number": 16
    },
    {
     "cell_type": "code",
     "collapsed": false,
     "input": [
      "pins_df.to_hdf('../data/results/pins_df_feb27.h5', 'df', mode='w', complib='blosc:lz4', complevel=9)\n",
      "!ls -lh ../data/results"
     ],
     "language": "python",
     "metadata": {},
     "outputs": [
      {
       "output_type": "stream",
       "stream": "stdout",
       "text": [
        "total 240M\r\n",
        "-rw-rw-r-- 1 sergeyk sergeyk 119M Feb 27 22:08 boards_users_df_feb27.h5\r\n",
        "lrwxrwxrwx 1 sergeyk sergeyk   33 Feb 27 21:53 mongodb -> /research_data/pinsplorer/mongodb\r\n",
        "-rw-rw-r-- 1 sergeyk sergeyk 122M Feb 27 22:22 pins_df_feb27.h5\r\n"
       ]
      },
      {
       "output_type": "stream",
       "stream": "stderr",
       "text": [
        "/usr/local/lib/python2.7/dist-packages/pandas/io/pytables.py:2446: PerformanceWarning: \n",
        "your performance may suffer as PyTables will pickle object types that it cannot\n",
        "map directly to c-types [inferred_type->unicode,key->block2_values] [items->[u'board_name', u'img', u'username']]\n",
        "\n",
        "  warnings.warn(ws, PerformanceWarning)\n"
       ]
      }
     ],
     "prompt_number": 17
    }
   ],
   "metadata": {}
  }
 ]
}