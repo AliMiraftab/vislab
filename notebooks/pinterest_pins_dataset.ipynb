{
 "metadata": {
  "name": ""
 },
 "nbformat": 3,
 "nbformat_minor": 0,
 "worksheets": [
  {
   "cells": [
    {
     "cell_type": "markdown",
     "metadata": {},
     "source": [
      "## Load the pins collection into a DataFrame."
     ]
    },
    {
     "cell_type": "code",
     "collapsed": false,
     "input": [
      "%load_ext autoreload\n",
      "%autoreload 2\n",
      "\n",
      "from pprint import pprint\n",
      "import pandas as pd\n",
      "import pymongo\n",
      "import numpy as np\n",
      "import time\n",
      "import vislab"
     ],
     "language": "python",
     "metadata": {},
     "outputs": [
      {
       "output_type": "stream",
       "stream": "stdout",
       "text": [
        "The autoreload extension is already loaded. To reload it, use:\n",
        "  %reload_ext autoreload\n"
       ]
      }
     ],
     "prompt_number": 6
    },
    {
     "cell_type": "code",
     "collapsed": false,
     "input": [
      "db = vislab.util.get_mongodb_client()['pinscraping']\n",
      "print db.collection_names()"
     ],
     "language": "python",
     "metadata": {},
     "outputs": [
      {
       "output_type": "stream",
       "stream": "stdout",
       "text": [
        "[]\n"
       ]
      }
     ],
     "prompt_number": 7
    },
    {
     "cell_type": "code",
     "collapsed": false,
     "input": [
      "print(db['pins'].count())\n",
      "pprint(db['pins'].find_one())"
     ],
     "language": "python",
     "metadata": {},
     "outputs": [
      {
       "output_type": "stream",
       "stream": "stdout",
       "text": [
        "3172020\n",
        "{u'_id': u'www.pinterest.com/pin/100205160428494657/',\n",
        " u'board_name': u'soft-mint',\n",
        " u'caption': u'cupcakes',\n",
        " u'img': u'http://media-cache-ec0.pinimg.com/736x/cd/49/9c/cd499c1fdd84af17856e0a219031a5c4.jpg',\n",
        " u'pin_url': u'www.pinterest.com/pin/100205160428494657/',\n",
        " u'query': [u'soft'],\n",
        " u'repins': 25,\n",
        " u'repins_likes_url': [u'www.pinterest.com/pin/100205160428494657/repins/',\n",
        "                       u'www.pinterest.com/pin/100205160428494657/likes/'],\n",
        " u'source': u'sprinklebakes.com',\n",
        " u'username': u'rainqueen'}\n"
       ]
      }
     ],
     "prompt_number": 4
    },
    {
     "cell_type": "code",
     "collapsed": false,
     "input": [
      "# Make DataFrame, and use the unique pin id as image_id.\n",
      "pins_df = pd.DataFrame(list(db['pins'].find(fields=['img', 'query', 'repins', 'board_name', 'username', '_id'])))\n",
      "pins_df.index = pd.Index([_.split('/')[-2] for _ in pins_df['_id']], name='image_id')\n",
      "del pins_df['_id']"
     ],
     "language": "python",
     "metadata": {},
     "outputs": [],
     "prompt_number": 5
    },
    {
     "cell_type": "code",
     "collapsed": false,
     "input": [
      "# Expand the query list to boolean columns.\n",
      "pins_df_expanded = pd.DataFrame(\n",
      "    data=[\n",
      "        dict([('query_' + _, True) for _ in row])\n",
      "        for row in pins_df['query']\n",
      "    ],\n",
      "    index=pins_df.index\n",
      ").fillna(False)\n",
      "print(pins_df_expanded.sum(0))"
     ],
     "language": "python",
     "metadata": {},
     "outputs": [
      {
       "output_type": "stream",
       "stream": "stdout",
       "text": [
        "query_animals                  124540\n",
        "query_black and white          120075\n",
        "query_bokeh                     56745\n",
        "query_bright                    87402\n",
        "query_calm                      80710\n",
        "query_cloudy                    50980\n",
        "query_corporate                 60794\n",
        "query_depth of field            11824\n",
        "query_detailed                  77693\n",
        "query_energetic                 42013\n",
        "query_ethereal                  70961\n",
        "query_fall                     100011\n",
        "query_futuristic                67141\n",
        "query_geometric composition      6473\n",
        "query_happy                    101777\n",
        "query_hazy                      43020\n",
        "query_hdr                       34148\n",
        "query_horror                    75807\n",
        "query_industrial                69805\n",
        "query_instagram                 53577\n",
        "query_landscape                 84209\n",
        "query_long Exposure             15882\n",
        "query_macro                     61991\n",
        "query_melancholy                45922\n",
        "query_minimal                   67451\n",
        "query_nature                   104509\n",
        "query_night                     75123\n",
        "query_noir                      84710\n",
        "query_organic                   60437\n",
        "query_pastel                    66566\n",
        "query_pensive                   41108\n",
        "query_portrait                  70789\n",
        "query_radiant                   43687\n",
        "query_romantic                  62142\n",
        "query_sad                       48270\n",
        "query_scary                     33889\n",
        "query_sepia                     86783\n",
        "query_serene                    58312\n",
        "query_sleek                     61255\n",
        "query_soft                      86433\n",
        "query_spring                    57314\n",
        "query_summer                    87798\n",
        "query_sunny                     71979\n",
        "query_tense                     29677\n",
        "query_texture                   60050\n",
        "query_upbeat                    29469\n",
        "query_vintage                  107221\n",
        "query_washed out                37609\n",
        "query_winter                    95939\n",
        "dtype: int64\n"
       ]
      }
     ],
     "prompt_number": 6
    },
    {
     "cell_type": "code",
     "collapsed": false,
     "input": [
      "pins_df = pins_df.join(pins_df_expanded)\n",
      "del pins_df['query']"
     ],
     "language": "python",
     "metadata": {},
     "outputs": [],
     "prompt_number": 7
    },
    {
     "cell_type": "code",
     "collapsed": false,
     "input": [
      "query_cols = [_ for _ in pins_df.columns if _.startswith('query_')]\n",
      "pins_df[query_cols] = pins_df[query_cols].astype(bool)"
     ],
     "language": "python",
     "metadata": {},
     "outputs": [],
     "prompt_number": 13
    },
    {
     "cell_type": "code",
     "collapsed": false,
     "input": [
      "pins_df.to_hdf('../data/shared/pins_df_mar21.h5', 'df', mode='w', complib='blosc', complevel=9)\n",
      "!ls -lh ../data/shared"
     ],
     "language": "python",
     "metadata": {},
     "outputs": [
      {
       "output_type": "stream",
       "stream": "stdout",
       "text": [
        "total 1.1G\r\n",
        "-rw-r--r-- 1 sergeyk sergeyk  37M Oct 14 18:51 ava.h5\r\n",
        "-rw-r--r-- 1 sergeyk sergeyk 1.5M Oct 17 21:04 ava_style.h5\r\n",
        "-rw-r--r-- 1 sergeyk sergeyk  35M Oct 15 00:42 ava_urls.h5\r\n",
        "-rw-r--r-- 1 sergeyk sergeyk 5.7K Dec 28 20:55 behance_exps.sh\r\n",
        "drwxr-xr-x 2 sergeyk sergeyk 4.0K Dec 28 15:59 db\r\n",
        "-rw-r--r-- 1 sergeyk sergeyk 8.6M Mar 20 12:16 flickr_df copy.h5\r\n",
        "-rw-r--r-- 1 sergeyk sergeyk 8.6M Mar 20 12:16 flickr_df.h5\r\n",
        "-rw-r--r-- 1 sergeyk sergeyk  15M Mar 21 17:15 flickr_df_mar2014.h5\r\n",
        "-rw-r--r-- 1 sergeyk sergeyk  12M Feb 11 23:15 ilsvrc2013_dfs.h5\r\n",
        "-rw-r--r-- 1 sergeyk sergeyk 2.6M Feb 14 02:57 inria_dfs.h5\r\n",
        "-rw-r--r-- 1 sergeyk sergeyk 5.6M Jan 24 20:09 pascal_VOC2007_dfs.h5\r\n",
        "-rw-r--r-- 1 sergeyk sergeyk 5.9M Mar 19 00:03 pascal_VOC2012_dfs.h5\r\n",
        "-rw-r--r-- 1 sergeyk sergeyk 122M Feb 27 22:22 pins_df_feb27.h5\r\n",
        "-rw-r--r-- 1 sergeyk sergeyk 216M Feb 28 12:30 pins_df_feb28.h5\r\n",
        "-rw-rw-r-- 1 sergeyk sergeyk 504M Mar 21 17:48 pins_df_mar21.h5\r\n",
        "drwxr-xr-x 2 sergeyk sergeyk 4.0K Jan 21 15:03 predict\r\n",
        "drwxr-xr-x 2 sergeyk sergeyk 4.0K Dec 17 20:09 redis\r\n",
        "drwxr-xr-x 2 sergeyk sergeyk 4.0K Dec 28 16:31 results\r\n",
        "drwxr-xr-x 2 sergeyk sergeyk  64K Dec 18 05:40 rqworkers\r\n",
        "-rw-r--r-- 1 sergeyk sergeyk  27M Sep 25 19:11 wikipaintings_basic_info.h5\r\n",
        "-rw-r--r-- 1 sergeyk sergeyk  52M Sep 26 02:43 wikipaintings_detailed_info.h5\r\n",
        "-rw-r--r-- 1 sergeyk sergeyk  32M Nov 14 12:21 wikipaintings_oct2013.csv\r\n",
        "-rw-r--r-- 1 sergeyk sergeyk  13M Sep 26 02:46 wikipaintings_urls.csv\r\n",
        "-rw-r--r-- 1 sergeyk sergeyk  17M Sep 26 02:44 wikipaintings_urls.h5\r\n",
        "-rw-r--r-- 1 sergeyk sergeyk  15M Sep 26 02:46 wikipaintings_urls.pickle\r\n"
       ]
      }
     ],
     "prompt_number": 15
    }
   ],
   "metadata": {}
  }
 ]
}