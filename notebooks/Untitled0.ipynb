{
 "metadata": {
  "name": ""
 },
 "nbformat": 3,
 "nbformat_minor": 0,
 "worksheets": [
  {
   "cells": [
    {
     "cell_type": "code",
     "collapsed": false,
     "input": [
      "%load_ext autoreload\n",
      "%autoreload 2\n",
      "\n",
      "import vislab.datasets\n",
      "from vislab.predict import *\n",
      "import pandas as pd\n",
      "import logging\n",
      "logger = logging.getLogger()\n",
      "logger.setLevel(logging.INFO)"
     ],
     "language": "python",
     "metadata": {},
     "outputs": [
      {
       "output_type": "stream",
       "stream": "stdout",
       "text": [
        "The autoreload extension is already loaded. To reload it, use:\n",
        "  %reload_ext autoreload\n"
       ]
      }
     ],
     "prompt_number": 125
    },
    {
     "cell_type": "code",
     "collapsed": false,
     "input": [
      "source_df = vislab.datasets.ava.get_style_df()\n",
      "dataset_name = 'ava_style'\n",
      "random_seed = 42\n",
      "column_names = [x for x in source_df.columns if not x.startswith('_')]\n",
      "column_set_name = 'styles'\n",
      "balanced = False\n",
      "test_frac = 0.2"
     ],
     "language": "python",
     "metadata": {},
     "outputs": [],
     "prompt_number": 144
    },
    {
     "cell_type": "code",
     "collapsed": false,
     "input": [
      "dataset = vislab.predict.get_multiclass_dataset(\n",
      "        source_df, dataset_name, column_set_name, column_names, test_frac, True, random_seed)"
     ],
     "language": "python",
     "metadata": {},
     "outputs": [
      {
       "output_type": "stream",
       "stream": "stderr",
       "text": [
        "INFO:root:Dropping 0 rows with no positive labels.\n"
       ]
      }
     ],
     "prompt_number": 163
    },
    {
     "cell_type": "code",
     "collapsed": false,
     "input": [
      "plt.figure()\n",
      "plt.bar(arange(num_labels + 1), 1. * np.bincount(dataset['train_df'].label), label='train')\n",
      "plt.figure()\n",
      "plt.bar(arange(num_labels + 1), 1. * np.bincount(dataset['val_df'].label), label='val')\n",
      "#plt.figure()\n",
      "#plt.bar(arange(num_labels), 1. * np.bincount(dataset['test_df'].label), label='test')"
     ],
     "language": "python",
     "metadata": {},
     "outputs": [
      {
       "metadata": {},
       "output_type": "pyout",
       "prompt_number": 164,
       "text": [
        "<Container object of 15 artists>"
       ]
      },
      {
       "metadata": {},
       "output_type": "display_data",
       "png": "[encoded data removed]",
       "text": [
        "<matplotlib.figure.Figure at 0x11a4cb850>"
       ]
      },
      {
       "metadata": {},
       "output_type": "display_data",
       "png": "[encoded data removed]",
       "text": [
        "<matplotlib.figure.Figure at 0x11bb12110>"
       ]
      }
     ],
     "prompt_number": 164
    }
   ],
   "metadata": {}
  }
 ]
}