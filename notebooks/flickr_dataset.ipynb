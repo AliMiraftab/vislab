{
 "metadata": {
  "name": ""
 },
 "nbformat": 3,
 "nbformat_minor": 0,
 "worksheets": [
  {
   "cells": [
    {
     "cell_type": "code",
     "collapsed": false,
     "input": [
      "%load_ext autoreload\n",
      "%autoreload 2\n",
      "import pandas as pd\n",
      "import vislab.datasets"
     ],
     "language": "python",
     "metadata": {},
     "outputs": [],
     "prompt_number": 1
    },
    {
     "cell_type": "code",
     "collapsed": false,
     "input": [
      "client = vislab.util.get_mongodb_client()\n",
      "collection = client['flickr']['Ethereal']\n",
      "doc = collection.find_one()\n",
      "doc"
     ],
     "language": "python",
     "metadata": {},
     "outputs": [
      {
       "metadata": {},
       "output_type": "pyout",
       "prompt_number": 2,
       "text": [
        "{u'_id': ObjectId('532ccd011288dd35c4be728d'),\n",
        " u'farm': 4,\n",
        " u'id': u'13284746704',\n",
        " u'image_id': u'13284746704',\n",
        " u'isfamily': 0,\n",
        " u'isfriend': 0,\n",
        " u'ispublic': 1,\n",
        " u'owner': u'94169063@N08',\n",
        " u'rejected': False,\n",
        " u'secret': u'f6220b8176',\n",
        " u'server': u'3702',\n",
        " u'title': u'\"We are in the universe and the universe is in us.\" Neil Degrasse Tyson'}"
       ]
      }
     ],
     "prompt_number": 2
    },
    {
     "cell_type": "code",
     "collapsed": false,
     "input": [
      "vislab.datasets.flickr.populate_database(photos_per_style=4300)"
     ],
     "language": "python",
     "metadata": {},
     "outputs": [
      {
       "output_type": "stream",
       "stream": "stdout",
       "text": [
        "\n",
        "get_photos_for_style: Detailed\n",
        "No new photos need to be fetched.\n",
        "\n",
        "get_photos_for_style: Pastel\n",
        "No new photos need to be fetched.\n",
        "\n",
        "get_photos_for_style: Melancholy\n",
        "No new photos need to be fetched.\n",
        "\n",
        "get_photos_for_style: Noir\n",
        "No new photos need to be fetched.\n",
        "\n",
        "get_photos_for_style: HDR\n",
        "No new photos need to be fetched.\n",
        "\n",
        "get_photos_for_style: Vintage\n",
        "No new photos need to be fetched.\n",
        "\n",
        "get_photos_for_style: Long Exposure\n",
        "No new photos need to be fetched.\n",
        "\n",
        "get_photos_for_style: Horror\n",
        "No new photos need to be fetched.\n",
        "\n",
        "get_photos_for_style: Sunny\n",
        "No new photos need to be fetched.\n",
        "\n",
        "get_photos_for_style: Bright, Energetic\n",
        "No new photos need to be fetched.\n",
        "\n",
        "get_photos_for_style: Hazy\n",
        "No new photos need to be fetched.\n",
        "\n",
        "get_photos_for_style: Bokeh\n",
        "No new photos need to be fetched.\n",
        "\n",
        "get_photos_for_style: Serene\n",
        "No new photos need to be fetched.\n",
        "\n",
        "get_photos_for_style: Texture\n",
        "No new photos need to be fetched."
       ]
      },
      {
       "output_type": "stream",
       "stream": "stdout",
       "text": [
        "\n",
        "\n",
        "get_photos_for_style: Ethereal\n",
        "No new photos need to be fetched.\n",
        "\n",
        "get_photos_for_style: Macro\n",
        "No new photos need to be fetched.\n",
        "\n",
        "get_photos_for_style: Depth of Field\n",
        "No new photos need to be fetched.\n",
        "\n",
        "get_photos_for_style: Geometric Composition\n",
        "No new photos need to be fetched.\n",
        "\n",
        "get_photos_for_style: Minimal\n",
        "No new photos need to be fetched.\n",
        "\n",
        "get_photos_for_style: Romantic\n",
        "No new photos need to be fetched.\n"
       ]
      }
     ],
     "prompt_number": 3
    },
    {
     "cell_type": "code",
     "collapsed": false,
     "input": [
      "df = vislab.datasets.flickr._fetch_df()"
     ],
     "language": "python",
     "metadata": {},
     "outputs": [],
     "prompt_number": 4
    },
    {
     "cell_type": "code",
     "collapsed": false,
     "input": [
      "df[vislab.datasets.flickr.underscored_style_names].sum(0)"
     ],
     "language": "python",
     "metadata": {},
     "outputs": [
      {
       "metadata": {},
       "output_type": "pyout",
       "prompt_number": 5,
       "text": [
        "style_Detailed                 7000\n",
        "style_Pastel                   7000\n",
        "style_Melancholy               4496\n",
        "style_Noir                     4496\n",
        "style_HDR                      4497\n",
        "style_Vintage                  5996\n",
        "style_Long_Exposure            4500\n",
        "style_Horror                   4493\n",
        "style_Sunny                    4492\n",
        "style_Bright,_Energetic        4498\n",
        "style_Hazy                     4483\n",
        "style_Bokeh                    4497\n",
        "style_Serene                   4497\n",
        "style_Texture                  4479\n",
        "style_Ethereal                 4487\n",
        "style_Macro                    4500\n",
        "style_Depth_of_Field           5506\n",
        "style_Geometric_Composition    4498\n",
        "style_Minimal                  4478\n",
        "style_Romantic                 4489\n",
        "dtype: int64"
       ]
      }
     ],
     "prompt_number": 5
    },
    {
     "cell_type": "code",
     "collapsed": false,
     "input": [
      "df['_index'] = df.index\n",
      "df = df.drop_duplicates('_index')\n",
      "del df['_index']"
     ],
     "language": "python",
     "metadata": {},
     "outputs": [],
     "prompt_number": 6
    },
    {
     "cell_type": "code",
     "collapsed": false,
     "input": [
      "df[vislab.datasets.flickr.underscored_style_names].sum(0)"
     ],
     "language": "python",
     "metadata": {},
     "outputs": [
      {
       "metadata": {},
       "output_type": "pyout",
       "prompt_number": 7,
       "text": [
        "style_Detailed                 7000\n",
        "style_Pastel                   6994\n",
        "style_Melancholy               4310\n",
        "style_Noir                     4496\n",
        "style_HDR                      4462\n",
        "style_Vintage                  5647\n",
        "style_Long_Exposure            4343\n",
        "style_Horror                   4492\n",
        "style_Sunny                    4350\n",
        "style_Bright,_Energetic        4229\n",
        "style_Hazy                     4452\n",
        "style_Bokeh                    4219\n",
        "style_Serene                   4343\n",
        "style_Texture                  4358\n",
        "style_Ethereal                 4300\n",
        "style_Macro                    4402\n",
        "style_Depth_of_Field           4777\n",
        "style_Geometric_Composition    4272\n",
        "style_Minimal                  4302\n",
        "style_Romantic                 4193\n",
        "dtype: int64"
       ]
      }
     ],
     "prompt_number": 7
    },
    {
     "cell_type": "code",
     "collapsed": false,
     "input": [
      "print df.index.shape\n",
      "print df.index.unique().shape"
     ],
     "language": "python",
     "metadata": {},
     "outputs": [
      {
       "output_type": "stream",
       "stream": "stdout",
       "text": [
        "(93941,)\n",
        "(93941,)\n"
       ]
      }
     ],
     "prompt_number": 8
    },
    {
     "cell_type": "code",
     "collapsed": false,
     "input": [
      "# Limit to 4000 examples each\n",
      "indices = []\n",
      "for style in vislab.datasets.flickr.underscored_style_names:\n",
      "    indices += df.index[df[style]].tolist()[:4000]\n",
      "print len(indices)\n",
      "print len(np.unique(indices))\n",
      "#df_ = df.loc[indices]"
     ],
     "language": "python",
     "metadata": {},
     "outputs": [
      {
       "output_type": "stream",
       "stream": "stdout",
       "text": [
        "80000\n",
        "80000"
       ]
      },
      {
       "output_type": "stream",
       "stream": "stdout",
       "text": [
        "\n"
       ]
      }
     ],
     "prompt_number": 9
    },
    {
     "cell_type": "code",
     "collapsed": false,
     "input": [
      "df[vislab.datasets.flickr.underscored_style_names].sum(1).value_counts()\n",
      "# Cool, no images with more than one label."
     ],
     "language": "python",
     "metadata": {},
     "outputs": [
      {
       "metadata": {},
       "output_type": "pyout",
       "prompt_number": 10,
       "text": [
        "1    93941\n",
        "dtype: int64"
       ]
      }
     ],
     "prompt_number": 10
    },
    {
     "cell_type": "code",
     "collapsed": false,
     "input": [
      "df2 = pd.read_hdf('../data/shared/flickr_df.h5', 'df')\n",
      "print df2.index.intersection(['f_'+_ for _ in df.index]).shape\n",
      "print df2.shape[0]\n",
      "# cool, so about 35% of the old dataset is in the new dataset"
     ],
     "language": "python",
     "metadata": {},
     "outputs": [
      {
       "output_type": "stream",
       "stream": "stdout",
       "text": [
        "(17063,)\n",
        "50198\n"
       ]
      }
     ],
     "prompt_number": 11
    },
    {
     "cell_type": "code",
     "collapsed": false,
     "input": [
      "df.to_hdf('../data/shared/flickr_df_mar2014.h5', 'df', mode='w', complib='blosc', complevel=9)"
     ],
     "language": "python",
     "metadata": {},
     "outputs": [],
     "prompt_number": 22
    },
    {
     "cell_type": "code",
     "collapsed": false,
     "input": [
      "%timeit pd.read_hdf('../data/shared/flickr_df_mar2014.h5', 'df')"
     ],
     "language": "python",
     "metadata": {},
     "outputs": [
      {
       "output_type": "stream",
       "stream": "stdout",
       "text": [
        "10 loops, best of 3: 172 ms per loop\n"
       ]
      }
     ],
     "prompt_number": 23
    }
   ],
   "metadata": {}
  }
 ]
}