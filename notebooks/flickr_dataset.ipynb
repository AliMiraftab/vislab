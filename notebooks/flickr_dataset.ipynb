{
 "metadata": {
  "name": ""
 },
 "nbformat": 3,
 "nbformat_minor": 0,
 "worksheets": [
  {
   "cells": [
    {
     "cell_type": "code",
     "collapsed": false,
     "input": [
      "%load_ext autoreload\n",
      "%autoreload 2\n",
      "import pandas as pd\n",
      "import vislab.datasets"
     ],
     "language": "python",
     "metadata": {},
     "outputs": [
      {
       "output_type": "stream",
       "stream": "stdout",
       "text": [
        "The autoreload extension is already loaded. To reload it, use:\n",
        "  %reload_ext autoreload\n"
       ]
      }
     ],
     "prompt_number": 4
    },
    {
     "cell_type": "code",
     "collapsed": false,
     "input": [
      "client = vislab.util.get_mongodb_client()\n",
      "collection = client['flickr']['Ethereal']\n",
      "doc = collection.find_one()\n",
      "doc"
     ],
     "language": "python",
     "metadata": {},
     "outputs": [
      {
       "ename": "Exception",
       "evalue": "Need a MongoDB server running on localhost, port 27666",
       "output_type": "pyerr",
       "traceback": [
        "\u001b[0;31m---------------------------------------------------------------------------\u001b[0m\n\u001b[0;31mException\u001b[0m                                 Traceback (most recent call last)",
        "\u001b[0;32m<ipython-input-5-3c5ad306178e>\u001b[0m in \u001b[0;36m<module>\u001b[0;34m()\u001b[0m\n\u001b[0;32m----> 1\u001b[0;31m \u001b[0mclient\u001b[0m \u001b[0;34m=\u001b[0m \u001b[0mvislab\u001b[0m\u001b[0;34m.\u001b[0m\u001b[0mutil\u001b[0m\u001b[0;34m.\u001b[0m\u001b[0mget_mongodb_client\u001b[0m\u001b[0;34m(\u001b[0m\u001b[0;34m)\u001b[0m\u001b[0;34m\u001b[0m\u001b[0m\n\u001b[0m\u001b[1;32m      2\u001b[0m \u001b[0mcollection\u001b[0m \u001b[0;34m=\u001b[0m \u001b[0mclient\u001b[0m\u001b[0;34m[\u001b[0m\u001b[0;34m'flickr'\u001b[0m\u001b[0;34m]\u001b[0m\u001b[0;34m[\u001b[0m\u001b[0;34m'Ethereal'\u001b[0m\u001b[0;34m]\u001b[0m\u001b[0;34m\u001b[0m\u001b[0m\n\u001b[1;32m      3\u001b[0m \u001b[0mdoc\u001b[0m \u001b[0;34m=\u001b[0m \u001b[0mcollection\u001b[0m\u001b[0;34m.\u001b[0m\u001b[0mfind_one\u001b[0m\u001b[0;34m(\u001b[0m\u001b[0;34m)\u001b[0m\u001b[0;34m\u001b[0m\u001b[0m\n\u001b[1;32m      4\u001b[0m \u001b[0mdoc\u001b[0m\u001b[0;34m\u001b[0m\u001b[0m\n",
        "\u001b[0;32m/Users/karayev/work/ln_packages/vislab/util.pyc\u001b[0m in \u001b[0;36mget_mongodb_client\u001b[0;34m(port)\u001b[0m\n\u001b[1;32m     56\u001b[0m     \u001b[0;32mexcept\u001b[0m \u001b[0mpymongo\u001b[0m\u001b[0;34m.\u001b[0m\u001b[0merrors\u001b[0m\u001b[0;34m.\u001b[0m\u001b[0mConnectionFailure\u001b[0m\u001b[0;34m:\u001b[0m\u001b[0;34m\u001b[0m\u001b[0m\n\u001b[1;32m     57\u001b[0m         raise Exception(\n\u001b[0;32m---> 58\u001b[0;31m             \"Need a MongoDB server running on {}, port {}\".format(host, port))\n\u001b[0m\u001b[1;32m     59\u001b[0m \u001b[0;34m\u001b[0m\u001b[0m\n\u001b[1;32m     60\u001b[0m \u001b[0;34m\u001b[0m\u001b[0m\n",
        "\u001b[0;31mException\u001b[0m: Need a MongoDB server running on localhost, port 27666"
       ]
      }
     ],
     "prompt_number": 5
    },
    {
     "cell_type": "code",
     "collapsed": false,
     "input": [
      "aphrodite.flickr.populate_database(photos_per_style=3000)"
     ],
     "language": "python",
     "metadata": {},
     "outputs": []
    },
    {
     "cell_type": "code",
     "collapsed": false,
     "input": [
      "filename = aphrodite.REPO_DIRNAME + '/data_shared/flickr_df.pickle'\n",
      "\n",
      "force = True\n",
      "if force or not os.path.exists(filename):\n",
      "    client = aphrodite.util.get_mongodb_client()\n",
      "    dfs = []\n",
      "    for style in aphrodite.flickr.style_names:\n",
      "        df = pd.DataFrame(list(client['flickr'][style].find()))\n",
      "        \n",
      "        print style\n",
      "        print df\n",
      "        \n",
      "        df2 = pd.DataFrame(data={\n",
      "            'image_url': df.apply(lambda row: aphrodite.flickr.get_image_url(row), axis=1),\n",
      "            'page_url': df.apply(lambda row: aphrodite.flickr.get_page_url(row), axis=1),\n",
      "        })\n",
      "        df2.index = df['image_id'].astype(str)\n",
      "        style_str = style.replace(' ', '_')\n",
      "        df2[style_str] = True\n",
      "        dfs.append(df2)\n",
      "\n",
      "    main_df = dfs[0]\n",
      "    for df_ in dfs:\n",
      "        main_df = main_df.combine_first(df_)\n",
      "    main_df = main_df.fillna(False)\n",
      "\n",
      "    # Make sure the values are boolean\n",
      "    main_df[style_names] = main_df[style_names].astype(bool)\n",
      "\n",
      "    # Shuffle the rows.\n",
      "    np.random.seed(random_seed)\n",
      "    main_df = main_df.iloc[np.random.permutation(main_df.shape[0])]\n",
      "\n",
      "    main_df.to_pickle(filename)\n",
      "\n",
      "else:\n",
      "    main_df = pd.read_pickle(filename)\n",
      "\n",
      "if num_images > 0:\n",
      "    main_df = main_df.iloc[:num_images]"
     ],
     "language": "python",
     "metadata": {},
     "outputs": [
      {
       "output_type": "stream",
       "stream": "stdout",
       "text": [
        "Melancholy\n",
        "<class 'pandas.core.frame.DataFrame'>\n",
        "Int64Index: 3000 entries, 0 to 2999\n",
        "Data columns (total 12 columns):\n",
        "_id         3000  non-null values\n",
        "farm        3000  non-null values\n",
        "id          3000  non-null values\n",
        "image_id    3000  non-null values\n",
        "isfamily    3000  non-null values\n",
        "isfriend    3000  non-null values\n",
        "ispublic    3000  non-null values\n",
        "owner       3000  non-null values\n",
        "rejected    3000  non-null values\n",
        "secret      3000  non-null values\n",
        "server      3000  non-null values\n",
        "title       3000  non-null values\n",
        "dtypes: bool(1), int64(4), object(7)\n",
        "Noir"
       ]
      },
      {
       "output_type": "stream",
       "stream": "stdout",
       "text": [
        "\n",
        "<class 'pandas.core.frame.DataFrame'>\n",
        "Int64Index: 3000 entries, 0 to 2999\n",
        "Data columns (total 12 columns):\n",
        "_id         3000  non-null values\n",
        "farm        3000  non-null values\n",
        "id          3000  non-null values\n",
        "image_id    3000  non-null values\n",
        "isfamily    3000  non-null values\n",
        "isfriend    3000  non-null values\n",
        "ispublic    3000  non-null values\n",
        "owner       3000  non-null values\n",
        "rejected    3000  non-null values\n",
        "secret      3000  non-null values\n",
        "server      3000  non-null values\n",
        "title       3000  non-null values\n",
        "dtypes: bool(1), int64(4), object(7)\n",
        "HDR"
       ]
      },
      {
       "output_type": "stream",
       "stream": "stdout",
       "text": [
        "\n",
        "<class 'pandas.core.frame.DataFrame'>\n",
        "Int64Index: 3000 entries, 0 to 2999\n",
        "Data columns (total 12 columns):\n",
        "_id         3000  non-null values\n",
        "farm        3000  non-null values\n",
        "id          3000  non-null values\n",
        "image_id    3000  non-null values\n",
        "isfamily    3000  non-null values\n",
        "isfriend    3000  non-null values\n",
        "ispublic    3000  non-null values\n",
        "owner       3000  non-null values\n",
        "rejected    3000  non-null values\n",
        "secret      3000  non-null values\n",
        "server      3000  non-null values\n",
        "title       3000  non-null values\n",
        "dtypes: bool(1), int64(4), object(7)\n",
        "Soft, Pastel"
       ]
      },
      {
       "output_type": "stream",
       "stream": "stdout",
       "text": [
        "\n",
        "<class 'pandas.core.frame.DataFrame'>\n",
        "Int64Index: 3000 entries, 0 to 2999\n",
        "Data columns (total 12 columns):\n",
        "_id         3000  non-null values\n",
        "farm        3000  non-null values\n",
        "id          3000  non-null values\n",
        "image_id    3000  non-null values\n",
        "isfamily    3000  non-null values\n",
        "isfriend    3000  non-null values\n",
        "ispublic    3000  non-null values\n",
        "owner       3000  non-null values\n",
        "rejected    3000  non-null values\n",
        "secret      3000  non-null values\n",
        "server      3000  non-null values\n",
        "title       3000  non-null values\n",
        "dtypes: bool(1), int64(4), object(7)\n",
        "Macro"
       ]
      },
      {
       "output_type": "stream",
       "stream": "stdout",
       "text": [
        "\n",
        "<class 'pandas.core.frame.DataFrame'>\n",
        "Int64Index: 3000 entries, 0 to 2999\n",
        "Data columns (total 12 columns):\n",
        "_id         3000  non-null values\n",
        "farm        3000  non-null values\n",
        "id          3000  non-null values\n",
        "image_id    3000  non-null values\n",
        "isfamily    3000  non-null values\n",
        "isfriend    3000  non-null values\n",
        "ispublic    3000  non-null values\n",
        "owner       3000  non-null values\n",
        "rejected    3000  non-null values\n",
        "secret      3000  non-null values\n",
        "server      3000  non-null values\n",
        "title       3000  non-null values\n",
        "dtypes: bool(1), int64(4), object(7)\n",
        "Horror"
       ]
      },
      {
       "output_type": "stream",
       "stream": "stdout",
       "text": [
        "\n",
        "<class 'pandas.core.frame.DataFrame'>\n",
        "Int64Index: 3000 entries, 0 to 2999\n",
        "Data columns (total 12 columns):\n",
        "_id         3000  non-null values\n",
        "farm        3000  non-null values\n",
        "id          3000  non-null values\n",
        "image_id    3000  non-null values\n",
        "isfamily    3000  non-null values\n",
        "isfriend    3000  non-null values\n",
        "ispublic    3000  non-null values\n",
        "owner       3000  non-null values\n",
        "rejected    3000  non-null values\n",
        "secret      3000  non-null values\n",
        "server      3000  non-null values\n",
        "title       3000  non-null values\n",
        "dtypes: bool(1), int64(4), object(7)\n",
        "Sunny"
       ]
      },
      {
       "output_type": "stream",
       "stream": "stdout",
       "text": [
        "\n",
        "<class 'pandas.core.frame.DataFrame'>\n",
        "Int64Index: 3000 entries, 0 to 2999\n",
        "Data columns (total 12 columns):\n",
        "_id         3000  non-null values\n",
        "farm        3000  non-null values\n",
        "id          3000  non-null values\n",
        "image_id    3000  non-null values\n",
        "isfamily    3000  non-null values\n",
        "isfriend    3000  non-null values\n",
        "ispublic    3000  non-null values\n",
        "owner       3000  non-null values\n",
        "rejected    3000  non-null values\n",
        "secret      3000  non-null values\n",
        "server      3000  non-null values\n",
        "title       3000  non-null values\n",
        "dtypes: bool(1), int64(4), object(7)\n",
        "Serene"
       ]
      },
      {
       "output_type": "stream",
       "stream": "stdout",
       "text": [
        "\n",
        "<class 'pandas.core.frame.DataFrame'>\n",
        "Int64Index: 3000 entries, 0 to 2999\n",
        "Data columns (total 12 columns):\n",
        "_id         3000  non-null values\n",
        "farm        3000  non-null values\n",
        "id          3000  non-null values\n",
        "image_id    3000  non-null values\n",
        "isfamily    3000  non-null values\n",
        "isfriend    3000  non-null values\n",
        "ispublic    3000  non-null values\n",
        "owner       3000  non-null values\n",
        "rejected    3000  non-null values\n",
        "secret      3000  non-null values\n",
        "server      3000  non-null values\n",
        "title       3000  non-null values\n",
        "dtypes: bool(1), int64(4), object(7)\n",
        "Hazy"
       ]
      },
      {
       "output_type": "stream",
       "stream": "stdout",
       "text": [
        "\n",
        "<class 'pandas.core.frame.DataFrame'>\n",
        "Int64Index: 3000 entries, 0 to 2999\n",
        "Data columns (total 12 columns):\n",
        "_id         3000  non-null values\n",
        "farm        3000  non-null values\n",
        "id          3000  non-null values\n",
        "image_id    3000  non-null values\n",
        "isfamily    3000  non-null values\n",
        "isfriend    3000  non-null values\n",
        "ispublic    3000  non-null values\n",
        "owner       3000  non-null values\n",
        "rejected    3000  non-null values\n",
        "secret      3000  non-null values\n",
        "server      3000  non-null values\n",
        "title       3000  non-null values\n",
        "dtypes: bool(1), int64(4), object(7)\n",
        "Bright, Energetic"
       ]
      },
      {
       "output_type": "stream",
       "stream": "stdout",
       "text": [
        "\n",
        "<class 'pandas.core.frame.DataFrame'>\n",
        "Int64Index: 3000 entries, 0 to 2999\n",
        "Data columns (total 12 columns):\n",
        "_id         3000  non-null values\n",
        "farm        3000  non-null values\n",
        "id          3000  non-null values\n",
        "image_id    3000  non-null values\n",
        "isfamily    3000  non-null values\n",
        "isfriend    3000  non-null values\n",
        "ispublic    3000  non-null values\n",
        "owner       3000  non-null values\n",
        "rejected    3000  non-null values\n",
        "secret      3000  non-null values\n",
        "server      3000  non-null values\n",
        "title       3000  non-null values\n",
        "dtypes: bool(1), int64(4), object(7)\n",
        "Ethereal"
       ]
      },
      {
       "output_type": "stream",
       "stream": "stdout",
       "text": [
        "\n",
        "<class 'pandas.core.frame.DataFrame'>\n",
        "Int64Index: 3000 entries, 0 to 2999\n",
        "Data columns (total 12 columns):\n",
        "_id         3000  non-null values\n",
        "farm        3000  non-null values\n",
        "id          3000  non-null values\n",
        "image_id    3000  non-null values\n",
        "isfamily    3000  non-null values\n",
        "isfriend    3000  non-null values\n",
        "ispublic    3000  non-null values\n",
        "owner       3000  non-null values\n",
        "rejected    3000  non-null values\n",
        "secret      3000  non-null values\n",
        "server      3000  non-null values\n",
        "title       3000  non-null values\n",
        "dtypes: bool(1), int64(4), object(7)\n",
        "Vintage"
       ]
      },
      {
       "output_type": "stream",
       "stream": "stdout",
       "text": [
        "\n",
        "<class 'pandas.core.frame.DataFrame'>\n",
        "Int64Index: 2990 entries, 0 to 2989\n",
        "Data columns (total 12 columns):\n",
        "_id         2990  non-null values\n",
        "farm        2990  non-null values\n",
        "id          2990  non-null values\n",
        "image_id    2990  non-null values\n",
        "isfamily    2990  non-null values\n",
        "isfriend    2990  non-null values\n",
        "ispublic    2990  non-null values\n",
        "owner       2990  non-null values\n",
        "rejected    2990  non-null values\n",
        "secret      2990  non-null values\n",
        "server      2990  non-null values\n",
        "title       2990  non-null values\n",
        "dtypes: bool(1), int64(4), object(7)\n",
        "Depth of Field"
       ]
      },
      {
       "output_type": "stream",
       "stream": "stdout",
       "text": [
        "\n",
        "<class 'pandas.core.frame.DataFrame'>\n",
        "Int64Index: 3000 entries, 0 to 2999\n",
        "Data columns (total 12 columns):\n",
        "_id         3000  non-null values\n",
        "farm        3000  non-null values\n",
        "id          3000  non-null values\n",
        "image_id    3000  non-null values\n",
        "isfamily    3000  non-null values\n",
        "isfriend    3000  non-null values\n",
        "ispublic    3000  non-null values\n",
        "owner       3000  non-null values\n",
        "rejected    3000  non-null values\n",
        "secret      3000  non-null values\n",
        "server      3000  non-null values\n",
        "title       3000  non-null values\n",
        "dtypes: bool(1), int64(4), object(7)\n",
        "Long Exposure"
       ]
      },
      {
       "output_type": "stream",
       "stream": "stdout",
       "text": [
        "\n",
        "<class 'pandas.core.frame.DataFrame'>\n",
        "Int64Index: 3000 entries, 0 to 2999\n",
        "Data columns (total 12 columns):\n",
        "_id         3000  non-null values\n",
        "farm        3000  non-null values\n",
        "id          3000  non-null values\n",
        "image_id    3000  non-null values\n",
        "isfamily    3000  non-null values\n",
        "isfriend    3000  non-null values\n",
        "ispublic    3000  non-null values\n",
        "owner       3000  non-null values\n",
        "rejected    3000  non-null values\n",
        "secret      3000  non-null values\n",
        "server      3000  non-null values\n",
        "title       3000  non-null values\n",
        "dtypes: bool(1), int64(4), object(7)\n",
        "Geometric Composition"
       ]
      },
      {
       "output_type": "stream",
       "stream": "stdout",
       "text": [
        "\n",
        "<class 'pandas.core.frame.DataFrame'>\n",
        "Int64Index: 3000 entries, 0 to 2999\n",
        "Data columns (total 12 columns):\n",
        "_id         3000  non-null values\n",
        "farm        3000  non-null values\n",
        "id          3000  non-null values\n",
        "image_id    3000  non-null values\n",
        "isfamily    3000  non-null values\n",
        "isfriend    3000  non-null values\n",
        "ispublic    3000  non-null values\n",
        "owner       3000  non-null values\n",
        "rejected    3000  non-null values\n",
        "secret      3000  non-null values\n",
        "server      3000  non-null values\n",
        "title       3000  non-null values\n",
        "dtypes: bool(1), int64(4), object(7)\n",
        "Minimal"
       ]
      },
      {
       "output_type": "stream",
       "stream": "stdout",
       "text": [
        "\n",
        "<class 'pandas.core.frame.DataFrame'>\n",
        "Int64Index: 3000 entries, 0 to 2999\n",
        "Data columns (total 12 columns):\n",
        "_id         3000  non-null values\n",
        "farm        3000  non-null values\n",
        "id          3000  non-null values\n",
        "image_id    3000  non-null values\n",
        "isfamily    3000  non-null values\n",
        "isfriend    3000  non-null values\n",
        "ispublic    3000  non-null values\n",
        "owner       3000  non-null values\n",
        "rejected    3000  non-null values\n",
        "secret      3000  non-null values\n",
        "server      3000  non-null values\n",
        "title       3000  non-null values\n",
        "dtypes: bool(1), int64(4), object(7)\n",
        "Romantic"
       ]
      },
      {
       "ename": "NameError",
       "evalue": "name 'style_names' is not defined",
       "output_type": "pyerr",
       "traceback": [
        "\u001b[0;31m---------------------------------------------------------------------------\u001b[0m\n\u001b[0;31mNameError\u001b[0m                                 Traceback (most recent call last)",
        "\u001b[0;32m<ipython-input-8-46cdfdf9b815>\u001b[0m in \u001b[0;36m<module>\u001b[0;34m()\u001b[0m\n\u001b[1;32m     26\u001b[0m \u001b[0;34m\u001b[0m\u001b[0m\n\u001b[1;32m     27\u001b[0m     \u001b[0;31m# Make sure the values are boolean\u001b[0m\u001b[0;34m\u001b[0m\u001b[0;34m\u001b[0m\u001b[0m\n\u001b[0;32m---> 28\u001b[0;31m     \u001b[0mmain_df\u001b[0m\u001b[0;34m[\u001b[0m\u001b[0mstyle_names\u001b[0m\u001b[0;34m]\u001b[0m \u001b[0;34m=\u001b[0m \u001b[0mmain_df\u001b[0m\u001b[0;34m[\u001b[0m\u001b[0mstyle_names\u001b[0m\u001b[0;34m]\u001b[0m\u001b[0;34m.\u001b[0m\u001b[0mastype\u001b[0m\u001b[0;34m(\u001b[0m\u001b[0mbool\u001b[0m\u001b[0;34m)\u001b[0m\u001b[0;34m\u001b[0m\u001b[0m\n\u001b[0m\u001b[1;32m     29\u001b[0m \u001b[0;34m\u001b[0m\u001b[0m\n\u001b[1;32m     30\u001b[0m     \u001b[0;31m# Shuffle the rows.\u001b[0m\u001b[0;34m\u001b[0m\u001b[0;34m\u001b[0m\u001b[0m\n",
        "\u001b[0;31mNameError\u001b[0m: name 'style_names' is not defined"
       ]
      },
      {
       "output_type": "stream",
       "stream": "stdout",
       "text": [
        "\n",
        "<class 'pandas.core.frame.DataFrame'>\n",
        "Int64Index: 3000 entries, 0 to 2999\n",
        "Data columns (total 12 columns):\n",
        "_id         3000  non-null values\n",
        "farm        3000  non-null values\n",
        "id          3000  non-null values\n",
        "image_id    3000  non-null values\n",
        "isfamily    3000  non-null values\n",
        "isfriend    3000  non-null values\n",
        "ispublic    3000  non-null values\n",
        "owner       3000  non-null values\n",
        "rejected    3000  non-null values\n",
        "secret      3000  non-null values\n",
        "server      3000  non-null values\n",
        "title       3000  non-null values\n",
        "dtypes: bool(1), int64(4), object(7)\n"
       ]
      }
     ],
     "prompt_number": 8
    },
    {
     "cell_type": "code",
     "collapsed": false,
     "input": [
      "df = aphrodite.flickr.load_flickr_df(force=True)\n",
      "print df\n",
      "print df.iloc[:10]"
     ],
     "language": "python",
     "metadata": {},
     "outputs": [
      {
       "output_type": "stream",
       "stream": "stdout",
       "text": [
        "<class 'pandas.core.frame.DataFrame'>\n",
        "Index: 50198 entries, f_4114967495 to f_8612611101\n",
        "Data columns (total 19 columns):\n",
        "Bright,_Energetic        50198  non-null values\n",
        "Depth_of_Field           50198  non-null values\n",
        "Ethereal                 50198  non-null values\n",
        "Geometric_Composition    50198  non-null values\n",
        "HDR                      50198  non-null values\n",
        "Hazy                     50198  non-null values\n",
        "Horror                   50198  non-null values\n",
        "Long_Exposure            50198  non-null values\n",
        "Macro                    50198  non-null values\n",
        "Melancholy               50198  non-null values\n",
        "Minimal                  50198  non-null values\n",
        "Noir                     50198  non-null values\n",
        "Romantic                 50198  non-null values\n",
        "Serene                   50198  non-null values\n",
        "Soft,_Pastel             50198  non-null values\n",
        "Sunny                    50198  non-null values\n",
        "Vintage                  50198  non-null values\n",
        "image_url                50198  non-null values\n",
        "page_url                 50198  non-null values\n",
        "dtypes: bool(17), object(2)\n",
        "             Bright,_Energetic Depth_of_Field Ethereal Geometric_Composition  \\\n",
        "image_id                                                                       \n",
        "f_4114967495             False          False    False                 False   \n",
        "f_8544689003             False          False    False                 False   \n",
        "f_9533374165             False          False    False                 False   \n",
        "f_9262165821             False          False    False                 False   \n",
        "f_9478254386             False          False    False                 False   \n",
        "f_9128361331             False          False    False                 False   \n",
        "f_9570845789              True          False    False                 False   \n",
        "f_5501219958             False          False    False                 False   \n",
        "f_9271376568             False           True    False                 False   \n",
        "f_9437337196             False          False    False                 False   \n",
        "\n",
        "                HDR   Hazy Horror Long_Exposure  Macro Melancholy Minimal  \\\n",
        "image_id                                                                    \n",
        "f_4114967495  False  False  False         False  False      False   False   \n",
        "f_8544689003  False  False  False         False  False      False   False   \n",
        "f_9533374165  False  False  False         False  False      False   False   \n",
        "f_9262165821  False  False  False         False  False      False   False   \n",
        "f_9478254386  False  False  False         False  False      False   False   \n",
        "f_9128361331  False  False  False         False  False      False    True   \n",
        "f_9570845789  False  False  False         False  False      False   False   \n",
        "f_5501219958  False  False  False         False  False      False   False   \n",
        "f_9271376568  False  False  False         False  False      False   False   \n",
        "f_9437337196  False  False  False         False  False      False   False   \n",
        "\n",
        "               Noir Romantic Serene Soft,_Pastel  Sunny Vintage  \\\n",
        "image_id                                                          \n",
        "f_4114967495  False    False  False        False  False    True   \n",
        "f_8544689003  False     True  False        False  False   False   \n",
        "f_9533374165  False    False   True        False  False   False   \n",
        "f_9262165821  False    False  False         True  False   False   \n",
        "f_9478254386  False    False  False         True  False   False   \n",
        "f_9128361331  False    False  False        False  False   False   \n",
        "f_9570845789  False    False  False        False  False   False   \n",
        "f_5501219958  False    False  False        False  False    True   \n",
        "f_9271376568  False    False  False        False  False   False   \n",
        "f_9437337196  False     True  False        False  False   False   \n",
        "\n",
        "                                                      image_url  \\\n",
        "image_id                                                          \n",
        "f_4114967495  http://farm3.staticflickr.com/2539/4114967495_...   \n",
        "f_8544689003  http://farm9.staticflickr.com/8368/8544689003_...   \n",
        "f_9533374165  http://farm4.staticflickr.com/3744/9533374165_...   \n",
        "f_9262165821  http://farm6.staticflickr.com/5510/9262165821_...   \n",
        "f_9478254386  http://farm3.staticflickr.com/2835/9478254386_...   \n",
        "f_9128361331  http://farm4.staticflickr.com/3683/9128361331_...   \n",
        "f_9570845789  http://farm8.staticflickr.com/7311/9570845789_...   \n",
        "f_5501219958  http://farm6.staticflickr.com/5294/5501219958_...   \n",
        "f_9271376568  http://farm8.staticflickr.com/7345/9271376568_...   \n",
        "f_9437337196  http://farm4.staticflickr.com/3759/9437337196_...   \n",
        "\n",
        "                                                       page_url  \n",
        "image_id                                                         \n",
        "f_4114967495  http://www.flickr.com/photos/33553036@N07/4114...  \n",
        "f_8544689003  http://www.flickr.com/photos/53905615@N02/8544...  \n",
        "f_9533374165  http://www.flickr.com/photos/69148745@N02/9533...  \n",
        "f_9262165821  http://www.flickr.com/photos/55485844@N03/9262...  \n",
        "f_9478254386  http://www.flickr.com/photos/54674924@N06/9478...  \n",
        "f_9128361331  http://www.flickr.com/photos/57971685@N02/9128...  \n",
        "f_9570845789  http://www.flickr.com/photos/79051745@N08/9570...  \n",
        "f_5501219958  http://www.flickr.com/photos/36964290@N04/5501...  \n",
        "f_9271376568  http://www.flickr.com/photos/69852938@N07/9271...  \n",
        "f_9437337196  http://www.flickr.com/photos/49066864@N05/9437...  "
       ]
      },
      {
       "output_type": "stream",
       "stream": "stdout",
       "text": [
        "\n"
       ]
      }
     ],
     "prompt_number": 11
    },
    {
     "cell_type": "code",
     "collapsed": false,
     "input": [
      "print (df[aphrodite.flickr.style_names].sum(1) > 0).sum()\n",
      "print (df[aphrodite.flickr.style_names].sum(1) > 1).sum()\n",
      "print (df[aphrodite.flickr.style_names].sum(1) > 2).sum()\n",
      "print (df[aphrodite.flickr.style_names].sum(1) > 3).sum()"
     ],
     "language": "python",
     "metadata": {},
     "outputs": []
    },
    {
     "cell_type": "code",
     "collapsed": false,
     "input": [
      "x = df['image_url'].ix['f_9553998906']\n",
      "x"
     ],
     "language": "python",
     "metadata": {},
     "outputs": []
    },
    {
     "cell_type": "code",
     "collapsed": false,
     "input": [
      "client = aphrodite.util.get_mongodb_client()\n",
      "collection_names = [x for x in client['flickr'].collection_names() if x != 'system.indexes']\n",
      "dfs = []\n",
      "for name in collection_names:\n",
      "    print name, client['flickr'][name].count()\n",
      "    dfs.append(pd.DataFrame(list(client['flickr'][name].find())))"
     ],
     "language": "python",
     "metadata": {},
     "outputs": []
    },
    {
     "cell_type": "code",
     "collapsed": false,
     "input": [
      "dfs = []\n",
      "for style in aphrodite.flickr.styles:\n",
      "    df = pd.DataFrame(list(client['flickr'][style].find()))\n",
      "    df2 = pd.DataFrame(data={\n",
      "        'image_url': df.apply(lambda row: aphrodite.flickr.get_url(row, '_m'), axis=1)\n",
      "    })\n",
      "    df2.index = df['image_id'].astype(str)\n",
      "    df2[style] = True\n",
      "    dfs.append(df2)"
     ],
     "language": "python",
     "metadata": {},
     "outputs": []
    },
    {
     "cell_type": "code",
     "collapsed": false,
     "input": [
      "dfs[0].combine_first(dfs[1])"
     ],
     "language": "python",
     "metadata": {},
     "outputs": []
    },
    {
     "cell_type": "code",
     "collapsed": false,
     "input": [
      "#client.drop_database('flickr')\n",
      "#client['flickr'].drop_collection('Melancholy')"
     ],
     "language": "python",
     "metadata": {},
     "outputs": []
    },
    {
     "cell_type": "code",
     "collapsed": false,
     "input": [
      "sdf = pd.DataFrame(index=df.index, data={'label': df[style]})\n",
      "sdf.label"
     ],
     "language": "python",
     "metadata": {},
     "outputs": []
    }
   ],
   "metadata": {}
  }
 ]
}