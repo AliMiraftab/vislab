{
 "metadata": {
  "name": ""
 },
 "nbformat": 3,
 "nbformat_minor": 0,
 "worksheets": [
  {
   "cells": [
    {
     "cell_type": "code",
     "collapsed": false,
     "input": [
      "%load_ext autoreload\n",
      "%autoreload 2\n",
      "from vislab.backend.pascal import *\n",
      "\n",
      "def get_image_filename(name):\n",
      "     return os.path.join(VOC_DIR, 'JPEGImages', name)\n",
      "\n",
      "images_df, objects_df = load_pascal(False)"
     ],
     "language": "python",
     "metadata": {},
     "outputs": [
      {
       "output_type": "stream",
       "stream": "stdout",
       "text": [
        "The autoreload extension is already loaded. To reload it, use:\n",
        "  %reload_ext autoreload\n"
       ]
      }
     ],
     "prompt_number": 153
    }
   ],
   "metadata": {}
  }
 ]
}