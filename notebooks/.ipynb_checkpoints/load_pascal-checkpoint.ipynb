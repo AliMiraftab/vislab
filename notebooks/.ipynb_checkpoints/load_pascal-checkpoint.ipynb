{
 "metadata": {
  "name": ""
 },
 "nbformat": 3,
 "nbformat_minor": 0,
 "worksheets": [
  {
   "cells": [
    {
     "cell_type": "code",
     "collapsed": false,
     "input": [
      "%load_ext autoreload\n",
      "%autoreload 2\n",
      "from vislab.backend.pascal import *\n",
      "\n",
      "def get_image_filename(name):\n",
      "     return os.path.join(VOC_DIR, 'JPEGImages', name)\n",
      "\n",
      "images_df, objects_df = load_pascal(True)"
     ],
     "language": "python",
     "metadata": {},
     "outputs": [
      {
       "output_type": "stream",
       "stream": "stdout",
       "text": [
        "The autoreload extension is already loaded. To reload it, use:\n",
        "  %reload_ext autoreload\n"
       ]
      },
      {
       "output_type": "stream",
       "stream": "stdout",
       "text": [
        "load_pascal: finished in 285.059 s\n"
       ]
      }
     ],
     "prompt_number": 145
    }
   ],
   "metadata": {}
  }
 ]
}