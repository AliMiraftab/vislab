{
 "metadata": {
  "name": ""
 },
 "nbformat": 3,
 "nbformat_minor": 0,
 "worksheets": [
  {
   "cells": [
    {
     "cell_type": "code",
     "collapsed": false,
     "input": [
      "%load_ext autoreload\n",
      "%autoreload 2\n",
      "from IPython.display import HTML\n",
      "import vislab.datasets\n",
      "import aphrodite.results\n",
      "import os"
     ],
     "language": "python",
     "metadata": {},
     "outputs": [],
     "prompt_number": 1
    },
    {
     "cell_type": "code",
     "collapsed": false,
     "input": [
      "def top_k_images(df, k=10):\n",
      "    return HTML(' '.join('<img src=\"file:/{}\" width=\"210px\" />'.format(x) for x in df['image_url'].iloc[:k]))"
     ],
     "language": "python",
     "metadata": {},
     "outputs": [],
     "prompt_number": 10
    },
    {
     "cell_type": "code",
     "collapsed": false,
     "input": [
      "pascal_df = vislab.datasets.pascal.get_clf_df()"
     ],
     "language": "python",
     "metadata": {},
     "outputs": [],
     "prompt_number": 3
    },
    {
     "cell_type": "code",
     "collapsed": false,
     "input": [
      "results_df, preds_panel = aphrodite.results.load_pred_results(\n",
      "    'flickr_on_pascal_oct30', os.path.expanduser('~/work/aphrodite/data/results2'),\n",
      "    multiclass=False, force=False)\n",
      "flickr_pred_df = preds_panel.minor_xs('decaf_fc6 False vw')\n",
      "flickr_pred_df = flickr_pred_df[[x for x in flickr_pred_df.columns if x.startswith('pred_')]]"
     ],
     "language": "python",
     "metadata": {},
     "outputs": [
      {
       "output_type": "stream",
       "stream": "stdout",
       "text": [
        "Loaded from cache: 1 records\n"
       ]
      }
     ],
     "prompt_number": 4
    },
    {
     "cell_type": "code",
     "collapsed": false,
     "input": [
      "df = pascal_df.join(flickr_pred_df)\n",
      "df['image_url'] = [vislab.datasets.pascal.get_image_filename_for_id(x) for x in df.index]"
     ],
     "language": "python",
     "metadata": {},
     "outputs": [],
     "prompt_number": 5
    },
    {
     "cell_type": "code",
     "collapsed": false,
     "input": [
      "df['image_url'].iloc[0]"
     ],
     "language": "python",
     "metadata": {},
     "outputs": [
      {
       "metadata": {},
       "output_type": "pyout",
       "prompt_number": 7,
       "text": [
        "'/Users/sergeyk/work/vision_data/VOC2012/JPEGImages/2008_000002.jpg'"
       ]
      }
     ],
     "prompt_number": 7
    },
    {
     "cell_type": "code",
     "collapsed": false,
     "input": [
      "top_k_images(df)"
     ],
     "language": "python",
     "metadata": {},
     "outputs": [
      {
       "html": [
        "<img src=\"file://Users/sergeyk/work/vision_data/VOC2012/JPEGImages/2008_000002.jpg\" width=\"210px\" /> <img src=\"file://Users/sergeyk/work/vision_data/VOC2012/JPEGImages/2008_000003.jpg\" width=\"210px\" /> <img src=\"file://Users/sergeyk/work/vision_data/VOC2012/JPEGImages/2008_000007.jpg\" width=\"210px\" /> <img src=\"file://Users/sergeyk/work/vision_data/VOC2012/JPEGImages/2008_000008.jpg\" width=\"210px\" /> <img src=\"file://Users/sergeyk/work/vision_data/VOC2012/JPEGImages/2008_000009.jpg\" width=\"210px\" /> <img src=\"file://Users/sergeyk/work/vision_data/VOC2012/JPEGImages/2008_000015.jpg\" width=\"210px\" /> <img src=\"file://Users/sergeyk/work/vision_data/VOC2012/JPEGImages/2008_000016.jpg\" width=\"210px\" /> <img src=\"file://Users/sergeyk/work/vision_data/VOC2012/JPEGImages/2008_000019.jpg\" width=\"210px\" /> <img src=\"file://Users/sergeyk/work/vision_data/VOC2012/JPEGImages/2008_000021.jpg\" width=\"210px\" /> <img src=\"file://Users/sergeyk/work/vision_data/VOC2012/JPEGImages/2008_000023.jpg\" width=\"210px\" />"
       ],
       "metadata": {},
       "output_type": "pyout",
       "prompt_number": 11,
       "text": [
        "<IPython.core.display.HTML at 0x117e171d0>"
       ]
      }
     ],
     "prompt_number": 11
    }
   ],
   "metadata": {}
  }
 ]
}