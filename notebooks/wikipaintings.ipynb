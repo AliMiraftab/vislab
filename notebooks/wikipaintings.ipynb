{
 "metadata": {
  "name": ""
 },
 "nbformat": 3,
 "nbformat_minor": 0,
 "worksheets": [
  {
   "cells": [
    {
     "cell_type": "code",
     "collapsed": false,
     "input": [
      "from vislab.backend import util\n",
      "import pandas as pd"
     ],
     "language": "python",
     "metadata": {},
     "outputs": [],
     "prompt_number": 5
    },
    {
     "cell_type": "code",
     "collapsed": false,
     "input": [
      "%load_ext autoreload\n",
      "%autoreload 2\n",
      "import vislab.backend.wikipaintings\n",
      "df = vislab.backend.wikipaintings.get_basic_dataset()"
     ],
     "language": "python",
     "metadata": {},
     "outputs": [
      {
       "output_type": "stream",
       "stream": "stdout",
       "text": [
        "The autoreload extension is already loaded. To reload it, use:\n",
        "  %reload_ext autoreload\n"
       ]
      }
     ],
     "prompt_number": 14
    },
    {
     "cell_type": "code",
     "collapsed": false,
     "input": [
      "df['page_url'] = [x.replace('http://wiki', 'http://www.wiki') for x in df['page_url']]"
     ],
     "language": "python",
     "metadata": {},
     "outputs": [],
     "prompt_number": 17
    },
    {
     "cell_type": "code",
     "collapsed": false,
     "input": [
      "df.to_hdf('../data/shared/wikipaintings_basic_info.h5', 'df', mode='w')"
     ],
     "language": "python",
     "metadata": {},
     "outputs": [
      {
       "output_type": "stream",
       "stream": "stderr",
       "text": [
        "/Users/sergeyk/anaconda/python.app/Contents/lib/python2.7/site-packages/pandas/io/pytables.py:1992: PerformanceWarning: \n",
        "your performance may suffer as PyTables will pickle object types that it cannot\n",
        "map directly to c-types [inferred_type->unicode,key->axis1] [items->None]\n",
        "\n",
        "  warnings.warn(ws, PerformanceWarning)\n",
        "/Users/sergeyk/anaconda/python.app/Contents/lib/python2.7/site-packages/pandas/io/pytables.py:1992: PerformanceWarning: \n",
        "your performance may suffer as PyTables will pickle object types that it cannot\n",
        "map directly to c-types [inferred_type->unicode,key->block0_values] [items->['artist_slug', 'artwork_slug', 'image_id', 'page_url']]\n",
        "\n",
        "  warnings.warn(ws, PerformanceWarning)\n"
       ]
      }
     ],
     "prompt_number": 21
    },
    {
     "cell_type": "code",
     "collapsed": false,
     "input": [
      "mc = util.get_mongodb_client()"
     ],
     "language": "python",
     "metadata": {},
     "outputs": [],
     "prompt_number": 1
    },
    {
     "cell_type": "code",
     "collapsed": false,
     "input": [
      "collection = mc['wikipaintings']['image_info']\n",
      "print(collection.count())\n",
      "df = pd.DataFrame([doc for doc in collection.find()])"
     ],
     "language": "python",
     "metadata": {},
     "outputs": [
      {
       "output_type": "stream",
       "stream": "stdout",
       "text": [
        "105324\n"
       ]
      }
     ],
     "prompt_number": 6
    },
    {
     "cell_type": "code",
     "collapsed": false,
     "input": [
      "collection.find_one()"
     ],
     "language": "python",
     "metadata": {},
     "outputs": [
      {
       "metadata": {},
       "output_type": "pyout",
       "prompt_number": 10,
       "text": [
        "{u'_id': ObjectId('524101dc23f3ccb3e789657f'),\n",
        " u'artist_slug': u'willi-baumeister',\n",
        " u'artwork_slug': u'female-runner-ii-1925',\n",
        " u'image_id': u'willi-baumeister_female-runner-ii-1925',\n",
        " u'page_url': u'http://wikipaintings.org/en/willi-baumeister/female-runner-ii-1925'}"
       ]
      }
     ],
     "prompt_number": 10
    },
    {
     "cell_type": "code",
     "collapsed": false,
     "input": [
      "df.to_hdf('../data/shared/wikipaintings_detailed_info.h5', 'df')"
     ],
     "language": "python",
     "metadata": {},
     "outputs": [
      {
       "output_type": "stream",
       "stream": "stderr",
       "text": [
        "/Users/sergeyk/anaconda/python.app/Contents/lib/python2.7/site-packages/pandas/io/pytables.py:1992: PerformanceWarning: \n",
        "your performance may suffer as PyTables will pickle object types that it cannot\n",
        "map directly to c-types [inferred_type->unicode,key->axis0] [items->None]\n",
        "\n",
        "  warnings.warn(ws, PerformanceWarning)\n",
        "/Users/sergeyk/anaconda/python.app/Contents/lib/python2.7/site-packages/pandas/io/pytables.py:1992: PerformanceWarning: \n",
        "your performance may suffer as PyTables will pickle object types that it cannot\n",
        "map directly to c-types [inferred_type->mixed,key->block0_values] [items->[u'_id', u'artist_slug', u'artwork_slug', u'image_id', u'page_url']]\n",
        "\n",
        "  warnings.warn(ws, PerformanceWarning)\n",
        "/Users/sergeyk/anaconda/python.app/Contents/lib/python2.7/site-packages/pandas/io/pytables.py:1992: PerformanceWarning: \n",
        "your performance may suffer as PyTables will pickle object types that it cannot\n",
        "map directly to c-types [inferred_type->unicode,key->block0_items] [items->None]\n",
        "\n",
        "  warnings.warn(ws, PerformanceWarning)\n"
       ]
      }
     ],
     "prompt_number": 8
    },
    {
     "cell_type": "code",
     "collapsed": false,
     "input": [
      "df"
     ],
     "language": "python",
     "metadata": {},
     "outputs": [
      {
       "html": [
        "<pre>\n",
        "&lt;class 'pandas.core.frame.DataFrame'&gt;\n",
        "Int64Index: 105324 entries, 0 to 105323\n",
        "Data columns (total 5 columns):\n",
        "_id             105324  non-null values\n",
        "artist_slug     105324  non-null values\n",
        "artwork_slug    105324  non-null values\n",
        "image_id        105324  non-null values\n",
        "page_url        105324  non-null values\n",
        "dtypes: object(5)\n",
        "</pre>"
       ],
       "metadata": {},
       "output_type": "pyout",
       "prompt_number": 9,
       "text": [
        "<class 'pandas.core.frame.DataFrame'>\n",
        "Int64Index: 105324 entries, 0 to 105323\n",
        "Data columns (total 5 columns):\n",
        "_id             105324  non-null values\n",
        "artist_slug     105324  non-null values\n",
        "artwork_slug    105324  non-null values\n",
        "image_id        105324  non-null values\n",
        "page_url        105324  non-null values\n",
        "dtypes: object(5)"
       ]
      }
     ],
     "prompt_number": 9
    }
   ],
   "metadata": {}
  }
 ]
}