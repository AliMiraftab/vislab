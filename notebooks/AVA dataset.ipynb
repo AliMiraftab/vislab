{
 "metadata": {
  "name": ""
 },
 "nbformat": 3,
 "nbformat_minor": 0,
 "worksheets": [
  {
   "cells": [
    {
     "cell_type": "code",
     "collapsed": false,
     "input": [
      "%load_ext autoreload\n",
      "%autoreload 2\n",
      "import pandas as pd\n",
      "import vislab.datasets"
     ],
     "language": "python",
     "metadata": {},
     "outputs": [
      {
       "output_type": "stream",
       "stream": "stdout",
       "text": [
        "The autoreload extension is already loaded. To reload it, use:\n",
        "  %reload_ext autoreload\n"
       ]
      }
     ],
     "prompt_number": 3
    },
    {
     "cell_type": "code",
     "collapsed": false,
     "input": [
      "ava_df = vislab.datasets.ava.get_ava_df()\n",
      "ava_df"
     ],
     "language": "python",
     "metadata": {},
     "outputs": [
      {
       "html": [
        "<pre>\n",
        "&lt;class 'pandas.core.frame.DataFrame'&gt;\n",
        "Index: 255530 entries, 953619 to 57221\n",
        "Data columns (total 6 columns):\n",
        "challenge_name         255530  non-null values\n",
        "rating_mean            255530  non-null values\n",
        "rating_std             255530  non-null values\n",
        "ratings                255530  non-null values\n",
        "semantic_tag_1_name    196961  non-null values\n",
        "semantic_tag_2_name    151046  non-null values\n",
        "dtypes: float64(2), object(4)\n",
        "</pre>"
       ],
       "metadata": {},
       "output_type": "pyout",
       "prompt_number": 12,
       "text": [
        "<class 'pandas.core.frame.DataFrame'>\n",
        "Index: 255530 entries, 953619 to 57221\n",
        "Data columns (total 6 columns):\n",
        "challenge_name         255530  non-null values\n",
        "rating_mean            255530  non-null values\n",
        "rating_std             255530  non-null values\n",
        "ratings                255530  non-null values\n",
        "semantic_tag_1_name    196961  non-null values\n",
        "semantic_tag_2_name    151046  non-null values\n",
        "dtypes: float64(2), object(4)"
       ]
      }
     ],
     "prompt_number": 12
    },
    {
     "cell_type": "code",
     "collapsed": false,
     "input": [
      "style_df = vislab.datasets.ava.get_style_df()\n",
      "style_df"
     ],
     "language": "python",
     "metadata": {},
     "outputs": [
      {
       "html": [
        "<pre>\n",
        "&lt;class 'pandas.core.frame.DataFrame'&gt;\n",
        "Index: 14079 entries, 615485 to 858130\n",
        "Data columns (total 14 columns):\n",
        "Complementary_Colors    14079  non-null values\n",
        "Duotones                14079  non-null values\n",
        "HDR                     14079  non-null values\n",
        "Image_Grain             14079  non-null values\n",
        "Light_On_White          14079  non-null values\n",
        "Long_Exposure           14079  non-null values\n",
        "Macro                   14079  non-null values\n",
        "Motion_Blur             14079  non-null values\n",
        "Negative_Image          14079  non-null values\n",
        "Rule_of_Thirds          14079  non-null values\n",
        "Shallow_DOF             14079  non-null values\n",
        "Silhouettes             14079  non-null values\n",
        "Soft_Focus              14079  non-null values\n",
        "Vanishing_Point         14079  non-null values\n",
        "dtypes: bool(14)\n",
        "</pre>"
       ],
       "metadata": {},
       "output_type": "pyout",
       "prompt_number": 13,
       "text": [
        "<class 'pandas.core.frame.DataFrame'>\n",
        "Index: 14079 entries, 615485 to 858130\n",
        "Data columns (total 14 columns):\n",
        "Complementary_Colors    14079  non-null values\n",
        "Duotones                14079  non-null values\n",
        "HDR                     14079  non-null values\n",
        "Image_Grain             14079  non-null values\n",
        "Light_On_White          14079  non-null values\n",
        "Long_Exposure           14079  non-null values\n",
        "Macro                   14079  non-null values\n",
        "Motion_Blur             14079  non-null values\n",
        "Negative_Image          14079  non-null values\n",
        "Rule_of_Thirds          14079  non-null values\n",
        "Shallow_DOF             14079  non-null values\n",
        "Silhouettes             14079  non-null values\n",
        "Soft_Focus              14079  non-null values\n",
        "Vanishing_Point         14079  non-null values\n",
        "dtypes: bool(14)"
       ]
      }
     ],
     "prompt_number": 13
    },
    {
     "cell_type": "code",
     "collapsed": false,
     "input": [
      "ava_url_df = vislab.datasets.ava.get_urls_df()\n",
      "ava_url_df"
     ],
     "language": "python",
     "metadata": {},
     "outputs": [
      {
       "html": [
        "<pre>\n",
        "&lt;class 'pandas.core.frame.DataFrame'&gt;\n",
        "Index: 255529 entries, 953349 to 11252\n",
        "Data columns (total 2 columns):\n",
        "image_url    255529  non-null values\n",
        "page_url     255529  non-null values\n",
        "dtypes: object(2)\n",
        "</pre>"
       ],
       "metadata": {},
       "output_type": "pyout",
       "prompt_number": 14,
       "text": [
        "<class 'pandas.core.frame.DataFrame'>\n",
        "Index: 255529 entries, 953349 to 11252\n",
        "Data columns (total 2 columns):\n",
        "image_url    255529  non-null values\n",
        "page_url     255529  non-null values\n",
        "dtypes: object(2)"
       ]
      }
     ],
     "prompt_number": 14
    }
   ],
   "metadata": {}
  }
 ]
}