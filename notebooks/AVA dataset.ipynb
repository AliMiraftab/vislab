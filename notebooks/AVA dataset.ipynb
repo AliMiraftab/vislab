{
 "metadata": {
  "name": ""
 },
 "nbformat": 3,
 "nbformat_minor": 0,
 "worksheets": [
  {
   "cells": [
    {
     "cell_type": "code",
     "collapsed": false,
     "input": [
      "%load_ext autoreload\n",
      "%autoreload 2\n",
      "import pandas as pd\n",
      "import vislab.datasets"
     ],
     "language": "python",
     "metadata": {},
     "outputs": [],
     "prompt_number": 1
    },
    {
     "cell_type": "code",
     "collapsed": false,
     "input": [
      "artist_df = vislab.datasets.ava.get_artists_df()"
     ],
     "language": "python",
     "metadata": {},
     "outputs": [
      {
       "ename": "AttributeError",
       "evalue": "'module' object has no attribute 'get_artists_df'",
       "output_type": "pyerr",
       "traceback": [
        "\u001b[0;31m---------------------------------------------------------------------------\u001b[0m\n\u001b[0;31mAttributeError\u001b[0m                            Traceback (most recent call last)",
        "\u001b[0;32m<ipython-input-4-e1d1cd985349>\u001b[0m in \u001b[0;36m<module>\u001b[0;34m()\u001b[0m\n\u001b[0;32m----> 1\u001b[0;31m \u001b[0martist_df\u001b[0m \u001b[0;34m=\u001b[0m \u001b[0mvislab\u001b[0m\u001b[0;34m.\u001b[0m\u001b[0mdatasets\u001b[0m\u001b[0;34m.\u001b[0m\u001b[0mava\u001b[0m\u001b[0;34m.\u001b[0m\u001b[0mget_artists_df\u001b[0m\u001b[0;34m(\u001b[0m\u001b[0;34m)\u001b[0m\u001b[0;34m\u001b[0m\u001b[0m\n\u001b[0m",
        "\u001b[0;31mAttributeError\u001b[0m: 'module' object has no attribute 'get_artists_df'"
       ]
      }
     ],
     "prompt_number": 4
    },
    {
     "cell_type": "code",
     "collapsed": false,
     "input": [
      "style_df = vislab.datasets.ava.get_style_df()"
     ],
     "language": "python",
     "metadata": {},
     "outputs": [],
     "prompt_number": 47
    },
    {
     "cell_type": "code",
     "collapsed": false,
     "input": [
      "ava_df = vislab.datasets.ava.get_ava_df()\n",
      "ava_df"
     ],
     "language": "python",
     "metadata": {},
     "outputs": [
      {
       "html": [
        "<pre>\n",
        "&lt;class 'pandas.core.frame.DataFrame'&gt;\n",
        "Index: 255530 entries, 953619 to 57221\n",
        "Data columns (total 6 columns):\n",
        "challenge_name         255530  non-null values\n",
        "rating_mean            255530  non-null values\n",
        "rating_std             255530  non-null values\n",
        "ratings                255530  non-null values\n",
        "semantic_tag_1_name    196961  non-null values\n",
        "semantic_tag_2_name    151046  non-null values\n",
        "dtypes: float64(2), object(4)\n",
        "</pre>"
       ],
       "metadata": {},
       "output_type": "pyout",
       "prompt_number": 2,
       "text": [
        "<class 'pandas.core.frame.DataFrame'>\n",
        "Index: 255530 entries, 953619 to 57221\n",
        "Data columns (total 6 columns):\n",
        "challenge_name         255530  non-null values\n",
        "rating_mean            255530  non-null values\n",
        "rating_std             255530  non-null values\n",
        "ratings                255530  non-null values\n",
        "semantic_tag_1_name    196961  non-null values\n",
        "semantic_tag_2_name    151046  non-null values\n",
        "dtypes: float64(2), object(4)"
       ]
      }
     ],
     "prompt_number": 2
    },
    {
     "cell_type": "code",
     "collapsed": false,
     "input": [
      "ava_url_df = vislab.datasets.ava.get_urls_df()\n",
      "ava_url_df"
     ],
     "language": "python",
     "metadata": {},
     "outputs": [
      {
       "html": [
        "<pre>\n",
        "&lt;class 'pandas.core.frame.DataFrame'&gt;\n",
        "Index: 255529 entries, 953349 to 11252\n",
        "Data columns (total 2 columns):\n",
        "image_url    255529  non-null values\n",
        "page_url     255529  non-null values\n",
        "dtypes: object(2)\n",
        "</pre>"
       ],
       "metadata": {},
       "output_type": "pyout",
       "prompt_number": 4,
       "text": [
        "<class 'pandas.core.frame.DataFrame'>\n",
        "Index: 255529 entries, 953349 to 11252\n",
        "Data columns (total 2 columns):\n",
        "image_url    255529  non-null values\n",
        "page_url     255529  non-null values\n",
        "dtypes: object(2)"
       ]
      }
     ],
     "prompt_number": 4
    },
    {
     "cell_type": "code",
     "collapsed": false,
     "input": [
      "ratings_df = vislab.datasets.ava.get_ratings_df()"
     ],
     "language": "python",
     "metadata": {},
     "outputs": [],
     "prompt_number": 3
    }
   ],
   "metadata": {}
  }
 ]
}